{
 "cells": [
  {
   "cell_type": "code",
   "execution_count": null,
   "id": "0",
   "metadata": {},
   "outputs": [],
   "source": [
    "import torch\n",
    "import torchvision.models as models\n",
    "import timm\n",
    "\n",
    "# Utility: freeze params\n",
    "def freeze_model(model):\n",
    "    for param in model.parameters():\n",
    "        param.requires_grad = False\n",
    "    return model\n",
    "\n",
    "# 1. ResNet-34\n",
    "resnet34 = freeze_model(models.resnet34(weights=models.ResNet34_Weights.IMAGENET1K_V1))\n",
    "print(\"ResNet-34 loaded:\", sum(p.numel() for p in resnet34.parameters())/1e6, \"M params\")\n",
    "\n",
    "# 2. InceptionV3\n",
    "inception = freeze_model(models.inception_v3(weights=models.Inception_V3_Weights.IMAGENET1K_V1))\n",
    "print(\"InceptionV3 loaded:\", sum(p.numel() for p in inception.parameters())/1e6, \"M params\")\n",
    "\n",
    "# 3. SqueezeNet 1.1\n",
    "squeezenet = freeze_model(models.squeezenet1_1(weights=models.SqueezeNet1_1_Weights.IMAGENET1K_V1))\n",
    "print(\"SqueezeNet loaded:\", sum(p.numel() for p in squeezenet.parameters())/1e6, \"M params\")\n",
    "\n",
    "# 4. EfficientNetV2-S (via timm)\n",
    "efficientnetv2s = freeze_model(timm.create_model(\"tf_efficientnetv2_s_in21k\", pretrained=True))\n",
    "print(\"EfficientNetV2-S loaded:\", sum(p.numel() for p in efficientnetv2s.parameters())/1e6, \"M params\")\n",
    "\n",
    "# 5. MobileNetV3-Small\n",
    "mobilenetv3s = freeze_model(models.mobilenet_v3_small(weights=models.MobileNet_V3_Small_Weights.IMAGENET1K_V1))\n",
    "print(\"MobileNetV3-Small loaded:\", sum(p.numel() for p in mobilenetv3s.parameters())/1e6, \"M params\")\n",
    "\n",
    "print(\"\\n✅ All models loaded and frozen successfully!\")\n"
   ]
  },
  {
   "cell_type": "code",
   "execution_count": null,
   "id": "1",
   "metadata": {},
   "outputs": [],
   "source": []
  },
  {
   "cell_type": "code",
   "execution_count": null,
   "id": "2",
   "metadata": {},
   "outputs": [],
   "source": []
  },
  {
   "cell_type": "code",
   "execution_count": null,
   "id": "3",
   "metadata": {},
   "outputs": [],
   "source": []
  },
  {
   "cell_type": "code",
   "execution_count": null,
   "id": "4",
   "metadata": {},
   "outputs": [],
   "source": []
  },
  {
   "cell_type": "code",
   "execution_count": null,
   "id": "5",
   "metadata": {},
   "outputs": [],
   "source": []
  },
  {
   "cell_type": "code",
   "execution_count": null,
   "id": "6",
   "metadata": {},
   "outputs": [],
   "source": []
  }
 ],
 "metadata": {
  "kernelspec": {
   "display_name": "Python (cnn-embeddings)",
   "language": "python",
   "name": "cnn-embeddings"
  },
  "language_info": {
   "codemirror_mode": {
    "name": "ipython",
    "version": 3
   },
   "file_extension": ".py",
   "mimetype": "text/x-python",
   "name": "python",
   "nbconvert_exporter": "python",
   "pygments_lexer": "ipython3",
   "version": "3.11.13"
  }
 },
 "nbformat": 4,
 "nbformat_minor": 5
}
