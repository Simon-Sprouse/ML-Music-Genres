{
 "cells": [
  {
   "cell_type": "code",
   "execution_count": null,
   "id": "0",
   "metadata": {},
   "outputs": [],
   "source": [
    "import os\n",
    "import glob\n",
    "import torch\n",
    "\n",
    "# Directory containing saved batches\n",
    "save_dir = \"../Results/EmbeddingData\"\n",
    "\n",
    "# Find the first .pt file (sorted for determinism)\n",
    "pt_files = sorted(glob.glob(os.path.join(save_dir, \"*.pt\")))\n",
    "if not pt_files:\n",
    "    raise FileNotFoundError(f\"No .pt files found in {save_dir}\")\n",
    "\n",
    "path = pt_files[0]  # first .pt file\n",
    "print(f\"Loading: {path}\")\n",
    "\n",
    "# Load the dictionary\n",
    "batch = torch.load(path, weights_only=True)\n",
    "\n",
    "print(\"Top-level keys and shapes:\")\n",
    "for key, value in batch.items():\n",
    "    if torch.is_tensor(value):\n",
    "        print(f\"{key}: {tuple(value.shape)}\")\n",
    "    elif isinstance(value, dict):\n",
    "        print(f\"{key}: dict with keys {list(value.keys())}\")\n",
    "    elif isinstance(value, list):\n",
    "        print(f\"{key}: list of length {len(value)}\")\n",
    "    else:\n",
    "        print(f\"{key}: {type(value)}\")\n"
   ]
  },
  {
   "cell_type": "code",
   "execution_count": null,
   "id": "1",
   "metadata": {},
   "outputs": [],
   "source": [
    "import os\n",
    "\n",
    "def checkFileExists(save_path: str) -> bool:\n",
    "    \"\"\"\n",
    "    Check if a .pt file exists at the given path and is non-empty.\n",
    "    \n",
    "    Args:\n",
    "        save_path (str): Path to the file.\n",
    "    \n",
    "    Returns:\n",
    "        bool: True if the file exists and has nonzero size, False otherwise.\n",
    "    \"\"\"\n",
    "    return os.path.isfile(save_path) and os.path.getsize(save_path) > 0\n",
    "\n",
    "checkFileExists(path)\n"
   ]
  }
 ],
 "metadata": {
  "kernelspec": {
   "display_name": "Python (cnn-embeddings)",
   "language": "python",
   "name": "cnn-embeddings"
  },
  "language_info": {
   "codemirror_mode": {
    "name": "ipython",
    "version": 3
   },
   "file_extension": ".py",
   "mimetype": "text/x-python",
   "name": "python",
   "nbconvert_exporter": "python",
   "pygments_lexer": "ipython3",
   "version": "3.11.13"
  }
 },
 "nbformat": 4,
 "nbformat_minor": 5
}
