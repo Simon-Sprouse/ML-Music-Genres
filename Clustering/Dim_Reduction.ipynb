{
 "cells": [
  {
   "cell_type": "markdown",
   "id": "0",
   "metadata": {},
   "source": [
    "# SUPER IMPORTANT - YOU MUST NORMALIZE HERE"
   ]
  },
  {
   "cell_type": "code",
   "execution_count": null,
   "id": "1",
   "metadata": {},
   "outputs": [],
   "source": []
  },
  {
   "cell_type": "code",
   "execution_count": null,
   "id": "2",
   "metadata": {},
   "outputs": [],
   "source": [
    "import torch\n",
    "import numpy as np\n",
    "from pathlib import Path\n",
    "from sklearn.decomposition import IncrementalPCA\n",
    "\n",
    "# --- CONFIG ---\n",
    "batched_dir = Path(\"../Results/EmbeddingDataBatched/resnet34\")\n",
    "reduced_dir = Path(\"../Results/EmbeddingDataReduced\")\n",
    "reduced_dir.mkdir(parents=True, exist_ok=True)\n",
    "\n",
    "n_components = 50  # change this to however many dims you want\n",
    "# batch_size = 5000  # known per-batch frame size\n",
    "\n",
    "# --- COLLECT BATCH FILES ---\n",
    "batch_files = sorted(batched_dir.glob(\"batch_*.pt\"))\n",
    "print(f\"Found {len(batch_files)} batch files\")\n",
    "\n",
    "# --- INIT INCREMENTAL PCA ---\n",
    "ipca = IncrementalPCA(n_components=n_components)\n",
    "\n",
    "# --- PARTIAL FIT ON ALL BATCHES ---\n",
    "for f in batch_files:\n",
    "    print(f\"Fitting on {f.name} ...\")\n",
    "    batch_tensor = torch.load(f, weights_only=True)\n",
    "    ipca.partial_fit(batch_tensor.numpy())\n",
    "\n",
    "# --- SAVE PCA WEIGHTS ---\n",
    "np.savez(\n",
    "    reduced_dir / \"pca_weights.npz\",\n",
    "    components=ipca.components_,\n",
    "    mean=ipca.mean_,\n",
    "    explained_variance=ipca.explained_variance_,\n",
    "    explained_variance_ratio=ipca.explained_variance_ratio_,\n",
    "    singular_values=ipca.singular_values_,\n",
    "    n_components=ipca.n_components,\n",
    "    n_features=ipca.n_features_in_,\n",
    ")\n",
    "print(\"Saved PCA weights.\")\n",
    "\n",
    "# --- TRANSFORM & SAVE REDUCED BATCHES ---\n",
    "for f in batch_files:\n",
    "    print(f\"Transforming {f.name} ...\")\n",
    "    batch_tensor = torch.load(f, weights_only=True)\n",
    "    reduced = ipca.transform(batch_tensor.numpy())\n",
    "    reduced_tensor = torch.from_numpy(reduced).to(torch.float32)\n",
    "    \n",
    "    out_file = reduced_dir / f.name\n",
    "    torch.save(reduced_tensor, out_file)\n",
    "    print(f\"Saved reduced batch to {out_file}\")\n"
   ]
  },
  {
   "cell_type": "code",
   "execution_count": null,
   "id": "3",
   "metadata": {},
   "outputs": [],
   "source": [
    "import torch\n",
    "from pathlib import Path\n",
    "\n",
    "# --- CONFIG ---\n",
    "reduced_dir = Path(\"../Results/EmbeddingDataReduced\")\n",
    "\n",
    "# --- CHECK ---\n",
    "reduced_files = sorted(reduced_dir.glob(\"batch_*.pt\"))\n",
    "if reduced_files:\n",
    "    first_file = reduced_files[0]\n",
    "    print(f\"Loading {first_file.name} ...\")\n",
    "    reduced_tensor = torch.load(first_file, weights_only=True)\n",
    "\n",
    "    print(f\"Type: {type(reduced_tensor)}\")\n",
    "    print(f\"Shape: {reduced_tensor.shape}\")\n",
    "    print(f\"Dtype: {reduced_tensor.dtype}\")\n",
    "    print(f\"First 3 rows:\\n{reduced_tensor[:3]}\")\n",
    "    print(f\"Min/max values: {reduced_tensor.min().item():.6f} / {reduced_tensor.max().item():.6f}\")\n",
    "else:\n",
    "    print(\"No reduced batch files found in the directory.\")\n"
   ]
  }
 ],
 "metadata": {
  "kernelspec": {
   "display_name": "Python (cnn-embeddings)",
   "language": "python",
   "name": "cnn-embeddings"
  },
  "language_info": {
   "codemirror_mode": {
    "name": "ipython",
    "version": 3
   },
   "file_extension": ".py",
   "mimetype": "text/x-python",
   "name": "python",
   "nbconvert_exporter": "python",
   "pygments_lexer": "ipython3",
   "version": "3.11.13"
  }
 },
 "nbformat": 4,
 "nbformat_minor": 5
}
