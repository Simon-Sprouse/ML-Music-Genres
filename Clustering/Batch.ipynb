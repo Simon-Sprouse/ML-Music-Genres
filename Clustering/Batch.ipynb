{
 "cells": [
  {
   "cell_type": "code",
   "execution_count": null,
   "id": "0",
   "metadata": {},
   "outputs": [],
   "source": [
    "import torch\n",
    "from pathlib import Path\n",
    "\n",
    "# --- CONFIGURATION ---\n",
    "input_folder = Path(\"../Results/EmbeddingData\")\n",
    "output_folder = Path(\"../Results/EmbeddingDataBatched/resnet34\")\n",
    "output_folder.mkdir(parents=True, exist_ok=True)\n",
    "\n",
    "extractor = \"resnet34\"\n",
    "batch_size = 5000  # number of frames per new .pt file\n",
    "\n",
    "# --- INITIALIZE ---\n",
    "current_batch = []\n",
    "batch_counter = 0\n",
    "\n",
    "# Iterate over all .pt files\n",
    "for pt_file in sorted(input_folder.glob(\"*.pt\")):\n",
    "    data = torch.load(pt_file, weights_only=True)\n",
    "    embeddings = data[extractor]  # shape: [num_frames, embedding_dim]\n",
    "\n",
    "    for frame_emb in embeddings:\n",
    "        current_batch.append(frame_emb.unsqueeze(0))  # keep as 2D [1, dim]\n",
    "        \n",
    "        # When batch_size reached, save batch\n",
    "        if len(current_batch) >= batch_size:\n",
    "            batch_tensor = torch.cat(current_batch, dim=0)  # [batch_size, dim]\n",
    "            out_file = output_folder / f\"batch_{batch_counter:05d}.pt\"\n",
    "            torch.save(batch_tensor, out_file)\n",
    "            print(f\"Saved {out_file} ({batch_tensor.shape[0]} frames)\")\n",
    "            batch_counter += 1\n",
    "            current_batch = []\n",
    "\n",
    "# Save any leftover frames\n",
    "if current_batch:\n",
    "    batch_tensor = torch.cat(current_batch, dim=0)\n",
    "    out_file = output_folder / f\"batch_{batch_counter:05d}.pt\"\n",
    "    torch.save(batch_tensor, out_file)\n",
    "    print(f\"Saved {out_file} ({batch_tensor.shape[0]} frames)\")\n"
   ]
  },
  {
   "cell_type": "code",
   "execution_count": null,
   "id": "1",
   "metadata": {},
   "outputs": [],
   "source": [
    "# --- CONFIG ---\n",
    "file_path = Path(\"../Results/EmbeddingDataBatched/resnet34/batch_00000.pt\")\n",
    "\n",
    "# --- LOAD ---\n",
    "batch_tensor = torch.load(file_path, weights_only=True)\n",
    "\n",
    "# --- VERIFY ---\n",
    "print(f\"Type: {type(batch_tensor)}\")\n",
    "print(f\"Shape: {batch_tensor.shape}\")\n",
    "print(f\"Dtype: {batch_tensor.dtype}\")\n",
    "print(f\"First 3 embeddings:\\n{batch_tensor[:3]}\")  # print first 3 frames\n",
    "print(f\"Min/max values: {batch_tensor.min().item():.6f} / {batch_tensor.max().item():.6f}\")"
   ]
  },
  {
   "cell_type": "code",
   "execution_count": null,
   "id": "2",
   "metadata": {},
   "outputs": [],
   "source": []
  },
  {
   "cell_type": "code",
   "execution_count": null,
   "id": "3",
   "metadata": {},
   "outputs": [],
   "source": []
  },
  {
   "cell_type": "code",
   "execution_count": null,
   "id": "4",
   "metadata": {},
   "outputs": [],
   "source": []
  }
 ],
 "metadata": {
  "kernelspec": {
   "display_name": "Python (cnn-embeddings)",
   "language": "python",
   "name": "cnn-embeddings"
  },
  "language_info": {
   "codemirror_mode": {
    "name": "ipython",
    "version": 3
   },
   "file_extension": ".py",
   "mimetype": "text/x-python",
   "name": "python",
   "nbconvert_exporter": "python",
   "pygments_lexer": "ipython3",
   "version": "3.11.13"
  }
 },
 "nbformat": 4,
 "nbformat_minor": 5
}
