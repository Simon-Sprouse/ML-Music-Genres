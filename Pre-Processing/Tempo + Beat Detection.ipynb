{
 "cells": [
  {
   "cell_type": "code",
   "execution_count": null,
   "id": "0",
   "metadata": {},
   "outputs": [],
   "source": [
    "import librosa\n",
    "import librosa.display\n",
    "import matplotlib.pyplot as plt\n",
    "import numpy as np"
   ]
  },
  {
   "cell_type": "code",
   "execution_count": null,
   "id": "1",
   "metadata": {},
   "outputs": [],
   "source": []
  },
  {
   "cell_type": "markdown",
   "id": "2",
   "metadata": {},
   "source": [
    "# Detect Beats + Tempo w/ Librosa"
   ]
  },
  {
   "cell_type": "code",
   "execution_count": null,
   "id": "3",
   "metadata": {},
   "outputs": [],
   "source": [
    "# Load audio (mono for simplicity)\n",
    "# filename = \"../Songs/rufus_du_sol--innerbloom.mp3\"\n",
    "filename = \"../Songs/omah_lay--holy_ghost.mp3\"\n",
    "y, sr = librosa.load(filename, sr=None)\n",
    "\n",
    "# Tempo & beat tracking\n",
    "tempo, beat_frames = librosa.beat.beat_track(y=y, sr=sr)\n",
    "tempo = np.squeeze(tempo).item()   \n",
    "beat_times = librosa.frames_to_time(beat_frames, sr=sr)\n",
    "\n",
    "print(f\"Estimated tempo: {tempo:.2f} BPM\")\n",
    "print(\"Beat times (s):\", beat_times[:20], \"...\")"
   ]
  },
  {
   "cell_type": "code",
   "execution_count": null,
   "id": "4",
   "metadata": {},
   "outputs": [],
   "source": []
  },
  {
   "cell_type": "markdown",
   "id": "5",
   "metadata": {},
   "source": [
    "# Visualize Beat Detection"
   ]
  },
  {
   "cell_type": "code",
   "execution_count": null,
   "id": "6",
   "metadata": {},
   "outputs": [],
   "source": [
    "# --- USER SETTINGS FOR VISUALIZATION WINDOW ---\n",
    "start_time = 90.0  # Start time in seconds\n",
    "window_length = 20.0  # Window length in seconds\n",
    "end_time = start_time + window_length\n",
    "\n",
    "print(f\"\\nVisualization window: {start_time}s to {end_time}s\")\n",
    "\n",
    "# Filter beats within the specified window\n",
    "beats_in_window = beat_times[(beat_times >= start_time) & (beat_times <= end_time)]\n",
    "print(f\"Beats in window: {len(beats_in_window)}\")\n",
    "\n",
    "\n",
    "\n",
    "### PLOT 1 - Beat Times overlayed on raw Audio Form ###\n",
    "plt.figure(figsize=(16, 5))\n",
    "\n",
    "# Extract audio segment for the specified window\n",
    "start_sample = int(start_time * sr)\n",
    "end_sample = int(end_time * sr)\n",
    "y_window = y[start_sample:end_sample]\n",
    "\n",
    "# Plot windowed waveform\n",
    "time_axis_window = np.linspace(start_time, end_time, len(y_window))\n",
    "plt.plot(time_axis_window, y_window, alpha=1, color='blue', linewidth=0.8)\n",
    "\n",
    "# Overlay beat markers on waveform\n",
    "plt.vlines(beats_in_window, np.min(y_window), np.max(y_window), \n",
    "           color='red', alpha=0.4, linestyle='-', \n",
    "           linewidth=2, label='Beat markers')\n",
    "\n",
    "plt.xlim(start_time, end_time)\n",
    "plt.ylim([np.min(y_window) * 1.1, np.max(y_window) * 1.1])\n",
    "plt.xlabel('Time (s)')\n",
    "plt.ylabel('Amplitude')\n",
    "plt.title(f'Audio Waveform with Beat Detection ({start_time}-{end_time}s)')\n",
    "plt.legend()\n",
    "plt.grid(True, alpha=0.3)\n",
    "\n",
    "plt.tight_layout()\n",
    "plt.show()\n",
    "\n",
    "\n",
    "\n",
    "\n",
    "### PLOT 2 - Time intervals between Beat Frames\n",
    "beat_intervals = np.diff(beat_times)\n",
    "plt.figure(figsize=(12, 4))\n",
    "plt.plot(beat_times[1:], beat_intervals, 'o-', alpha=0.7, markersize=3)\n",
    "\n",
    "# Highlight the window region\n",
    "window_mask = (beat_times[1:] >= start_time) & (beat_times[1:] <= end_time)\n",
    "if np.any(window_mask):\n",
    "    plt.plot(beat_times[1:][window_mask], beat_intervals[window_mask], \n",
    "             'ro-', alpha=0.9, markersize=4, label=f'Window ({start_time}-{end_time}s)')\n",
    "\n",
    "plt.axhline(y=60/tempo, color='red', linestyle='--', alpha=0.8, \n",
    "            label=f'Expected interval: {60/tempo:.3f}s')\n",
    "plt.axvspan(start_time, end_time, alpha=0.2, color='yellow', label='Analysis window')\n",
    "plt.xlabel('Time (s)')\n",
    "plt.ylabel('Beat Interval (s)')\n",
    "plt.title('Beat Interval Analysis (Full Song)')\n",
    "plt.legend()\n",
    "plt.grid(True, alpha=0.3)\n",
    "plt.tight_layout()\n",
    "plt.show()"
   ]
  },
  {
   "cell_type": "code",
   "execution_count": null,
   "id": "7",
   "metadata": {},
   "outputs": [],
   "source": []
  },
  {
   "cell_type": "code",
   "execution_count": null,
   "id": "8",
   "metadata": {},
   "outputs": [],
   "source": []
  },
  {
   "cell_type": "code",
   "execution_count": null,
   "id": "9",
   "metadata": {},
   "outputs": [],
   "source": []
  },
  {
   "cell_type": "code",
   "execution_count": null,
   "id": "10",
   "metadata": {},
   "outputs": [],
   "source": []
  }
 ],
 "metadata": {
  "kernelspec": {
   "display_name": "Python (ml-audio)",
   "language": "python",
   "name": "ml-audio"
  },
  "language_info": {
   "codemirror_mode": {
    "name": "ipython",
    "version": 3
   },
   "file_extension": ".py",
   "mimetype": "text/x-python",
   "name": "python",
   "nbconvert_exporter": "python",
   "pygments_lexer": "ipython3",
   "version": "3.10.18"
  }
 },
 "nbformat": 4,
 "nbformat_minor": 5
}
