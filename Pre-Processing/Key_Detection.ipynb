{
 "cells": [
  {
   "cell_type": "code",
   "execution_count": null,
   "id": "0",
   "metadata": {},
   "outputs": [],
   "source": [
    "import librosa\n",
    "import librosa.display\n",
    "import matplotlib.pyplot as plt\n",
    "import numpy as np\n",
    "import soundfile as sf\n",
    "import madmom\n",
    "from madmom.features.key import CNNKeyRecognitionProcessor, key_prediction_to_label"
   ]
  },
  {
   "cell_type": "code",
   "execution_count": null,
   "id": "1",
   "metadata": {},
   "outputs": [],
   "source": []
  },
  {
   "cell_type": "markdown",
   "id": "2",
   "metadata": {},
   "source": [
    "# Detect Key w/ Madmom"
   ]
  },
  {
   "cell_type": "code",
   "execution_count": null,
   "id": "3",
   "metadata": {},
   "outputs": [],
   "source": [
    "filename = \"../Songs/dev/rufus_du_sol--innerbloom.mp3\"\n",
    "y, sr = librosa.load(filename, sr=44100, mono=True)\n",
    "\n",
    "# create processor (uses ensemble of CNNs by default)\n",
    "proc = CNNKeyRecognitionProcessor()\n",
    "\n",
    "# run on an audio file\n",
    "prediction = proc(filename)\n",
    "\n",
    "# convert to readable label\n",
    "key = key_prediction_to_label(prediction)\n",
    "print(\"Predicted key:\", key)"
   ]
  },
  {
   "cell_type": "code",
   "execution_count": null,
   "id": "4",
   "metadata": {},
   "outputs": [],
   "source": [
    "sr"
   ]
  },
  {
   "cell_type": "markdown",
   "id": "5",
   "metadata": {},
   "source": [
    "# Visualize Probability Distribution for Keys"
   ]
  },
  {
   "cell_type": "code",
   "execution_count": null,
   "id": "6",
   "metadata": {},
   "outputs": [],
   "source": [
    "# prediction is shape (1, 24) -> flatten\n",
    "probs = prediction.flatten()\n",
    "\n",
    "# map class indices to key names\n",
    "key_names = [\n",
    "    \"A major\", \"Bb major\", \"B major\", \"C major\", \"Db major\", \"D major\",\n",
    "    \"Eb major\", \"E major\", \"F major\", \"F# major\", \"G major\", \"Ab major\",\n",
    "    \"A minor\", \"Bb minor\", \"B minor\", \"C minor\", \"C# minor\", \"D minor\",\n",
    "    \"D# minor\", \"E minor\", \"F minor\", \"F# minor\", \"G minor\", \"G# minor\"\n",
    "]\n",
    "\n",
    "# top prediction\n",
    "predicted_key = key_prediction_to_label(prediction)\n",
    "print(\"Predicted key:\", predicted_key)\n",
    "\n",
    "# plot\n",
    "plt.figure(figsize=(12, 6))\n",
    "bars = plt.bar(key_names, probs)\n",
    "plt.xticks(rotation=45, ha=\"right\")\n",
    "plt.ylabel(\"Probability\")\n",
    "plt.yscale(\"log\")\n",
    "plt.title(f\"Key Prediction Probabilities (Predicted: {predicted_key})\")\n",
    "\n",
    "# highlight the predicted key\n",
    "for bar, name in zip(bars, key_names):\n",
    "    if name == predicted_key:\n",
    "        bar.set_color('orange')\n",
    "\n",
    "plt.tight_layout()\n",
    "plt.show()"
   ]
  }
 ],
 "metadata": {
  "kernelspec": {
   "display_name": "Python (ml_audio)",
   "language": "python",
   "name": "ml_audio"
  },
  "language_info": {
   "codemirror_mode": {
    "name": "ipython",
    "version": 3
   },
   "file_extension": ".py",
   "mimetype": "text/x-python",
   "name": "python",
   "nbconvert_exporter": "python",
   "pygments_lexer": "ipython3",
   "version": "3.9.23"
  }
 },
 "nbformat": 4,
 "nbformat_minor": 5
}
